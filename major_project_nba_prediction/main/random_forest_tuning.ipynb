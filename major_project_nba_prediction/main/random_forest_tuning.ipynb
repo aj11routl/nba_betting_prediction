{
 "cells": [
  {
   "cell_type": "code",
   "execution_count": 1,
   "id": "2241234f",
   "metadata": {},
   "outputs": [
    {
     "name": "stdout",
     "output_type": "stream",
     "text": [
      "Which set should be used in predicting?\n",
      " 1.Normal data \n",
      " 2.Replace missing scorebook values with random \n",
      " 3.Replace all scorebook values with fixed number?1\n"
     ]
    }
   ],
   "source": [
    "import pandas as pd\n",
    "import numpy as np\n",
    "from sklearn.model_selection import train_test_split\n",
    "\n",
    "'''\n",
    "split into testing and training data\n",
    "\n",
    "PTS_TOTAL_OVER_SB is the outcome column (1=over, 0=under)\n",
    "'''\n",
    "\n",
    "csv_input = input('Which set should be used in predicting?\\n 1.Normal data \\n 2.Replace missing scorebook values with random \\n 3.Replace all scorebook values with fixed number?');\n",
    "\n",
    "if csv_input == '1':\n",
    "    csv_string = 'prediction_data_unreplaced.csv';\n",
    "elif csv_input == '2':\n",
    "    csv_string = 'prediction_data_random_sb.csv';\n",
    "elif csv_input == '3':\n",
    "    csv_string = 'prediction_data_fixed_sb.csv';\n",
    "else:\n",
    "    csv_string = '';\n",
    "    \n",
    "df = pd.read_csv('../output_files/' + csv_string).dropna(axis=1).dropna(axis=0)\n",
    "\n",
    "remove_cols = ['PTS_TOTAL_OVER_SB', 'PTS_TOTAL'];\n",
    "X = df.drop(columns=remove_cols)\n",
    "\n",
    "y = df['PTS_TOTAL_OVER_SB']\n",
    "\n",
    "X_train, X_test, y_train, y_test = train_test_split(X, y, test_size = 0.25)"
   ]
  },
  {
   "cell_type": "markdown",
   "id": "c835b968",
   "metadata": {},
   "source": [
    "## Random Forest"
   ]
  },
  {
   "cell_type": "code",
   "execution_count": 4,
   "id": "13f5f736",
   "metadata": {},
   "outputs": [
    {
     "name": "stdout",
     "output_type": "stream",
     "text": [
      "Fitting 3 folds for each of 100 candidates, totalling 300 fits\n"
     ]
    },
    {
     "name": "stderr",
     "output_type": "stream",
     "text": [
      "C:\\Users\\addya\\anaconda3\\Lib\\site-packages\\sklearn\\model_selection\\_validation.py:425: FitFailedWarning: \n",
      "123 fits failed out of a total of 300.\n",
      "The score on these train-test partitions for these parameters will be set to nan.\n",
      "If these failures are not expected, you can try to debug them by setting error_score='raise'.\n",
      "\n",
      "Below are more details about the failures:\n",
      "--------------------------------------------------------------------------------\n",
      "89 fits failed with the following error:\n",
      "Traceback (most recent call last):\n",
      "  File \"C:\\Users\\addya\\anaconda3\\Lib\\site-packages\\sklearn\\model_selection\\_validation.py\", line 732, in _fit_and_score\n",
      "    estimator.fit(X_train, y_train, **fit_params)\n",
      "  File \"C:\\Users\\addya\\anaconda3\\Lib\\site-packages\\sklearn\\base.py\", line 1144, in wrapper\n",
      "    estimator._validate_params()\n",
      "  File \"C:\\Users\\addya\\anaconda3\\Lib\\site-packages\\sklearn\\base.py\", line 637, in _validate_params\n",
      "    validate_parameter_constraints(\n",
      "  File \"C:\\Users\\addya\\anaconda3\\Lib\\site-packages\\sklearn\\utils\\_param_validation.py\", line 95, in validate_parameter_constraints\n",
      "    raise InvalidParameterError(\n",
      "sklearn.utils._param_validation.InvalidParameterError: The 'max_features' parameter of RandomForestClassifier must be an int in the range [1, inf), a float in the range (0.0, 1.0], a str among {'log2', 'sqrt'} or None. Got 'auto' instead.\n",
      "\n",
      "--------------------------------------------------------------------------------\n",
      "34 fits failed with the following error:\n",
      "Traceback (most recent call last):\n",
      "  File \"C:\\Users\\addya\\anaconda3\\Lib\\site-packages\\sklearn\\model_selection\\_validation.py\", line 732, in _fit_and_score\n",
      "    estimator.fit(X_train, y_train, **fit_params)\n",
      "  File \"C:\\Users\\addya\\anaconda3\\Lib\\site-packages\\sklearn\\base.py\", line 1144, in wrapper\n",
      "    estimator._validate_params()\n",
      "  File \"C:\\Users\\addya\\anaconda3\\Lib\\site-packages\\sklearn\\base.py\", line 637, in _validate_params\n",
      "    validate_parameter_constraints(\n",
      "  File \"C:\\Users\\addya\\anaconda3\\Lib\\site-packages\\sklearn\\utils\\_param_validation.py\", line 95, in validate_parameter_constraints\n",
      "    raise InvalidParameterError(\n",
      "sklearn.utils._param_validation.InvalidParameterError: The 'max_features' parameter of RandomForestClassifier must be an int in the range [1, inf), a float in the range (0.0, 1.0], a str among {'sqrt', 'log2'} or None. Got 'auto' instead.\n",
      "\n",
      "  warnings.warn(some_fits_failed_message, FitFailedWarning)\n",
      "C:\\Users\\addya\\anaconda3\\Lib\\site-packages\\sklearn\\model_selection\\_search.py:976: UserWarning: One or more of the test scores are non-finite: [0.51061388 0.50487665 0.50774527        nan 0.50315548 0.49971314\n",
      " 0.49684452 0.50258176        nan        nan        nan 0.50028686\n",
      " 0.51004016 0.5060241  0.5037292         nan        nan 0.51118761\n",
      "        nan        nan 0.50200803 0.49684452 0.50028686        nan\n",
      " 0.50143431 0.50831899        nan 0.51061388        nan 0.50200803\n",
      " 0.50200803 0.50545037 0.50487665 0.51118761 0.5060241  0.5060241\n",
      " 0.50889271        nan        nan 0.51635112        nan 0.51635112\n",
      " 0.50028686 0.50831899        nan 0.51807229        nan 0.51004016\n",
      " 0.49856569 0.49971314        nan        nan        nan        nan\n",
      " 0.49741824 0.49913941        nan        nan        nan 0.50774527\n",
      " 0.49741824 0.50258176        nan        nan 0.51233505        nan\n",
      "        nan        nan 0.50545037        nan 0.49856569 0.50028686\n",
      " 0.51462995        nan        nan 0.50315548 0.51004016 0.51405622\n",
      " 0.50487665        nan        nan        nan        nan        nan\n",
      " 0.50487665 0.49684452 0.51004016 0.50315548 0.5157774  0.50487665\n",
      " 0.50717154 0.50028686 0.5060241         nan 0.49913941        nan\n",
      "        nan        nan 0.50831899        nan]\n",
      "  warnings.warn(\n"
     ]
    },
    {
     "data": {
      "text/plain": [
       "{'n_estimators': 1000,\n",
       " 'min_samples_split': 2,\n",
       " 'min_samples_leaf': 1,\n",
       " 'max_features': 'sqrt',\n",
       " 'max_depth': 110,\n",
       " 'bootstrap': True}"
      ]
     },
     "execution_count": 4,
     "metadata": {},
     "output_type": "execute_result"
    }
   ],
   "source": [
    "from sklearn.ensemble import RandomForestClassifier\n",
    "from sklearn.model_selection import RandomizedSearchCV\n",
    "\n",
    "rf = RandomForestClassifier(n_estimators = 1600, min_samples_split = 10, min_samples_leaf = 1, max_features = 'sqrt', max_depth = None, bootstrap = True)\n",
    "\n",
    "# Number of trees in random forest\n",
    "n_estimators = [int(x) for x in np.linspace(start = 200, stop = 2000, num = 10)]\n",
    "# Number of features to consider at every split\n",
    "max_features = ['auto', 'sqrt']\n",
    "# Maximum number of levels in tree\n",
    "max_depth = [int(x) for x in np.linspace(10, 110, num = 11)]\n",
    "max_depth.append(None)\n",
    "# Minimum number of samples required to split a node\n",
    "min_samples_split = [2, 5, 10]\n",
    "# Minimum number of samples required at each leaf node\n",
    "min_samples_leaf = [1, 2, 4]\n",
    "# Method of selecting samples for training each tree\n",
    "bootstrap = [True, False]\n",
    "\n",
    "random_grid = {'n_estimators': n_estimators,\n",
    "               'max_features': max_features,\n",
    "               'max_depth': max_depth,\n",
    "               'min_samples_split': min_samples_split,\n",
    "               'min_samples_leaf': min_samples_leaf,\n",
    "               'bootstrap': bootstrap}\n",
    "\n",
    "rf_random = RandomizedSearchCV(estimator = rf, param_distributions = random_grid, n_iter = 100, cv = 3, verbose=2, random_state=42, n_jobs = -1)# Fit the random search model\n",
    "rf_random.fit(X_train, y_train)\n",
    "\n",
    "rf_random.best_params_"
   ]
  },
  {
   "cell_type": "code",
   "execution_count": null,
   "id": "af47d6ca",
   "metadata": {},
   "outputs": [],
   "source": [
    "import numpy as np\n",
    "from sklearn.metrics import (\n",
    "    classification_report,\n",
    "    accuracy_score,\n",
    "    confusion_matrix,\n",
    "    ConfusionMatrixDisplay,\n",
    "    f1_score,\n",
    ")\n",
    "from sklearn.model_selection import KFold, cross_val_score\n",
    "\n",
    "from sklearn.ensemble import RandomForestClassifier\n",
    "\n",
    "rf = RandomForestClassifier(n_estimators = 1600, min_samples_split = 10, min_samples_leaf = 1, max_features = 'sqrt', max_depth = None, bootstrap = True)\n",
    "rf.fit(X_train, y_train)\n",
    "rf_pred = rf.predict(X_test)\n",
    "accuracy = accuracy_score(y_test, rf_pred)\n",
    "print(\"Accuracy:\", accuracy)\n",
    "\n",
    "clf_rep_rf = classification_report(y_test, rf_pred, output_dict=True)\n",
    "pd.DataFrame(clf_rep_rf).T"
   ]
  },
  {
   "cell_type": "code",
   "execution_count": 9,
   "id": "a6ed2c25",
   "metadata": {},
   "outputs": [
    {
     "name": "stdout",
     "output_type": "stream",
     "text": [
      "Cross Validation Scores:  [0.52360515 0.527897   0.48927039 0.472103   0.5        0.5387931\n",
      " 0.52155172 0.51293103 0.5387931  0.54741379]\n",
      "Average CV Score:  0.5172358295101376\n",
      "Number of CV Scores used in Average:  10\n",
      "0.52 accuracy with a standard deviation of 0.02\n"
     ]
    }
   ],
   "source": [
    "from sklearn.model_selection import KFold, cross_val_score\n",
    "\n",
    "rf_clf = RandomForestClassifier(n_estimators = 1600, min_samples_split = 10, min_samples_leaf = 1, max_features = 'sqrt', max_depth = None, bootstrap = True)\n",
    "\n",
    "k_folds = KFold(n_splits = 10)\n",
    "\n",
    "cvscores_rf = cross_val_score(rf_clf, X, y, cv = k_folds) \n",
    "\n",
    "print(\"Cross Validation Scores: \", cvscores_rf)\n",
    "print(\"Average CV Score: \", cvscores_rf.mean())\n",
    "print(\"Number of CV Scores used in Average: \", len(cvscores_rf)) \n",
    "\n",
    "print(\"%0.2f accuracy with a standard deviation of %0.2f\" % (cvscores_rf.mean(), cvscores_rf.std()))"
   ]
  },
  {
   "cell_type": "code",
   "execution_count": null,
   "id": "e8c0408f",
   "metadata": {},
   "outputs": [],
   "source": []
  }
 ],
 "metadata": {
  "kernelspec": {
   "display_name": "Python 3 (ipykernel)",
   "language": "python",
   "name": "python3"
  },
  "language_info": {
   "codemirror_mode": {
    "name": "ipython",
    "version": 3
   },
   "file_extension": ".py",
   "mimetype": "text/x-python",
   "name": "python",
   "nbconvert_exporter": "python",
   "pygments_lexer": "ipython3",
   "version": "3.11.5"
  }
 },
 "nbformat": 4,
 "nbformat_minor": 5
}
