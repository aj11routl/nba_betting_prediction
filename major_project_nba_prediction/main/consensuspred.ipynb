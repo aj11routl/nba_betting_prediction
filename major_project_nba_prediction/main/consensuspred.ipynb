{
 "cells": [
  {
   "cell_type": "markdown",
   "id": "e12fc6bf",
   "metadata": {},
   "source": [
    "## Calculate human consensus picks overall accuracy"
   ]
  },
  {
   "cell_type": "code",
   "execution_count": 65,
   "id": "2d6a4954",
   "metadata": {},
   "outputs": [
    {
     "data": {
      "text/html": [
       "<div>\n",
       "<style scoped>\n",
       "    .dataframe tbody tr th:only-of-type {\n",
       "        vertical-align: middle;\n",
       "    }\n",
       "\n",
       "    .dataframe tbody tr th {\n",
       "        vertical-align: top;\n",
       "    }\n",
       "\n",
       "    .dataframe thead th {\n",
       "        text-align: right;\n",
       "    }\n",
       "</style>\n",
       "<table border=\"1\" class=\"dataframe\">\n",
       "  <thead>\n",
       "    <tr style=\"text-align: right;\">\n",
       "      <th></th>\n",
       "      <th>PTS_home</th>\n",
       "      <th>PTS_away</th>\n",
       "      <th>OVER_CONSENSUS</th>\n",
       "      <th>UNDER_CONSENSUS</th>\n",
       "      <th>SB_TOTAL</th>\n",
       "      <th>PTS_TOTAL</th>\n",
       "      <th>PTS_TOTAL_OVER_SB</th>\n",
       "      <th>CONSENSUS_MAJORITY_OVER_SB</th>\n",
       "    </tr>\n",
       "  </thead>\n",
       "  <tbody>\n",
       "    <tr>\n",
       "      <th>0</th>\n",
       "      <td>126.0</td>\n",
       "      <td>117.0</td>\n",
       "      <td>690.0</td>\n",
       "      <td>390.0</td>\n",
       "      <td>228.0</td>\n",
       "      <td>243.0</td>\n",
       "      <td>True</td>\n",
       "      <td>True</td>\n",
       "    </tr>\n",
       "    <tr>\n",
       "      <th>1</th>\n",
       "      <td>120.0</td>\n",
       "      <td>112.0</td>\n",
       "      <td>819.0</td>\n",
       "      <td>529.0</td>\n",
       "      <td>232.0</td>\n",
       "      <td>232.0</td>\n",
       "      <td>False</td>\n",
       "      <td>True</td>\n",
       "    </tr>\n",
       "    <tr>\n",
       "      <th>2</th>\n",
       "      <td>114.0</td>\n",
       "      <td>106.0</td>\n",
       "      <td>744.0</td>\n",
       "      <td>441.0</td>\n",
       "      <td>215.5</td>\n",
       "      <td>220.0</td>\n",
       "      <td>True</td>\n",
       "      <td>True</td>\n",
       "    </tr>\n",
       "    <tr>\n",
       "      <th>3</th>\n",
       "      <td>113.0</td>\n",
       "      <td>93.0</td>\n",
       "      <td>593.0</td>\n",
       "      <td>340.0</td>\n",
       "      <td>222.0</td>\n",
       "      <td>206.0</td>\n",
       "      <td>False</td>\n",
       "      <td>True</td>\n",
       "    </tr>\n",
       "    <tr>\n",
       "      <th>4</th>\n",
       "      <td>108.0</td>\n",
       "      <td>110.0</td>\n",
       "      <td>482.0</td>\n",
       "      <td>460.0</td>\n",
       "      <td>235.5</td>\n",
       "      <td>218.0</td>\n",
       "      <td>False</td>\n",
       "      <td>True</td>\n",
       "    </tr>\n",
       "    <tr>\n",
       "      <th>...</th>\n",
       "      <td>...</td>\n",
       "      <td>...</td>\n",
       "      <td>...</td>\n",
       "      <td>...</td>\n",
       "      <td>...</td>\n",
       "      <td>...</td>\n",
       "      <td>...</td>\n",
       "      <td>...</td>\n",
       "    </tr>\n",
       "    <tr>\n",
       "      <th>2538</th>\n",
       "      <td>121.0</td>\n",
       "      <td>114.0</td>\n",
       "      <td>844.0</td>\n",
       "      <td>347.0</td>\n",
       "      <td>216.5</td>\n",
       "      <td>235.0</td>\n",
       "      <td>True</td>\n",
       "      <td>True</td>\n",
       "    </tr>\n",
       "    <tr>\n",
       "      <th>2539</th>\n",
       "      <td>121.0</td>\n",
       "      <td>107.0</td>\n",
       "      <td>588.0</td>\n",
       "      <td>565.0</td>\n",
       "      <td>215.5</td>\n",
       "      <td>228.0</td>\n",
       "      <td>True</td>\n",
       "      <td>True</td>\n",
       "    </tr>\n",
       "    <tr>\n",
       "      <th>2540</th>\n",
       "      <td>113.0</td>\n",
       "      <td>107.0</td>\n",
       "      <td>910.0</td>\n",
       "      <td>415.0</td>\n",
       "      <td>218.5</td>\n",
       "      <td>220.0</td>\n",
       "      <td>True</td>\n",
       "      <td>True</td>\n",
       "    </tr>\n",
       "    <tr>\n",
       "      <th>2542</th>\n",
       "      <td>122.0</td>\n",
       "      <td>121.0</td>\n",
       "      <td>858.0</td>\n",
       "      <td>558.0</td>\n",
       "      <td>223.0</td>\n",
       "      <td>243.0</td>\n",
       "      <td>True</td>\n",
       "      <td>True</td>\n",
       "    </tr>\n",
       "    <tr>\n",
       "      <th>2544</th>\n",
       "      <td>104.0</td>\n",
       "      <td>124.0</td>\n",
       "      <td>597.0</td>\n",
       "      <td>559.0</td>\n",
       "      <td>234.5</td>\n",
       "      <td>228.0</td>\n",
       "      <td>False</td>\n",
       "      <td>True</td>\n",
       "    </tr>\n",
       "  </tbody>\n",
       "</table>\n",
       "<p>1555 rows × 8 columns</p>\n",
       "</div>"
      ],
      "text/plain": [
       "      PTS_home  PTS_away  OVER_CONSENSUS  UNDER_CONSENSUS  SB_TOTAL  \\\n",
       "0        126.0     117.0           690.0            390.0     228.0   \n",
       "1        120.0     112.0           819.0            529.0     232.0   \n",
       "2        114.0     106.0           744.0            441.0     215.5   \n",
       "3        113.0      93.0           593.0            340.0     222.0   \n",
       "4        108.0     110.0           482.0            460.0     235.5   \n",
       "...        ...       ...             ...              ...       ...   \n",
       "2538     121.0     114.0           844.0            347.0     216.5   \n",
       "2539     121.0     107.0           588.0            565.0     215.5   \n",
       "2540     113.0     107.0           910.0            415.0     218.5   \n",
       "2542     122.0     121.0           858.0            558.0     223.0   \n",
       "2544     104.0     124.0           597.0            559.0     234.5   \n",
       "\n",
       "      PTS_TOTAL  PTS_TOTAL_OVER_SB  CONSENSUS_MAJORITY_OVER_SB  \n",
       "0         243.0               True                        True  \n",
       "1         232.0              False                        True  \n",
       "2         220.0               True                        True  \n",
       "3         206.0              False                        True  \n",
       "4         218.0              False                        True  \n",
       "...         ...                ...                         ...  \n",
       "2538      235.0               True                        True  \n",
       "2539      228.0               True                        True  \n",
       "2540      220.0               True                        True  \n",
       "2542      243.0               True                        True  \n",
       "2544      228.0              False                        True  \n",
       "\n",
       "[1555 rows x 8 columns]"
      ]
     },
     "execution_count": 65,
     "metadata": {},
     "output_type": "execute_result"
    }
   ],
   "source": [
    "import pandas as pd\n",
    "\n",
    "df = pd.read_csv('../data/games_data.csv').dropna(axis=0)\n",
    "\n",
    "df = df.filter(['PTS_home', 'PTS_away','OVER_CONSENSUS', 'UNDER_CONSENSUS', 'SB_TOTAL'])\n",
    "\n",
    "pred_correct = 0;\n",
    "\n",
    "pts_total = df['PTS_home'] + df['PTS_away'];\n",
    "\n",
    "actual_over_sb_total = (pts_total > df['SB_TOTAL']);\n",
    "\n",
    "over_consensus = df['OVER_CONSENSUS']\n",
    "under_consensus = df['UNDER_CONSENSUS']\n",
    "\n",
    "consensus_is_over = [];\n",
    "\n",
    "for o, u in zip(over_consensus, under_consensus):\n",
    "    if o > u:\n",
    "        consensus_is_over.append(True);\n",
    "    elif u > o:\n",
    "        consensus_is_over.append(False);\n",
    "    else:\n",
    "        consensus_is_over.append(None);\n",
    "\n",
    "df = df.assign(PTS_TOTAL = pts_total)\n",
    "df = df.assign(PTS_TOTAL_OVER_SB = actual_over_sb_total)\n",
    "df = df.assign(CONSENSUS_MAJORITY_OVER_SB = consensus_is_over)"
   ]
  },
  {
   "cell_type": "code",
   "execution_count": 4,
   "id": "9872bc9b",
   "metadata": {},
   "outputs": [
    {
     "data": {
      "text/plain": [
       "CONSENSUS_CORRECT\n",
       "False    51.193967322999576%\n",
       "True     48.806032677000424%\n",
       "Name: proportion, dtype: object"
      ]
     },
     "execution_count": 4,
     "metadata": {},
     "output_type": "execute_result"
    }
   ],
   "source": [
    "con_correct = df['PTS_TOTAL_OVER_SB'] == df['CONSENSUS_MAJORITY_OVER_SB']\n",
    "df2 = pd.DataFrame(con_correct, columns=['CONSENSUS_CORRECT'])\n",
    "df2['CONSENSUS_CORRECT'].value_counts(normalize=True).mul(100).astype(str)+'%'"
   ]
  },
  {
   "cell_type": "code",
   "execution_count": 29,
   "id": "826dc384",
   "metadata": {},
   "outputs": [
    {
     "data": {
      "text/html": [
       "<div>\n",
       "<style scoped>\n",
       "    .dataframe tbody tr th:only-of-type {\n",
       "        vertical-align: middle;\n",
       "    }\n",
       "\n",
       "    .dataframe tbody tr th {\n",
       "        vertical-align: top;\n",
       "    }\n",
       "\n",
       "    .dataframe thead th {\n",
       "        text-align: right;\n",
       "    }\n",
       "</style>\n",
       "<table border=\"1\" class=\"dataframe\">\n",
       "  <thead>\n",
       "    <tr style=\"text-align: right;\">\n",
       "      <th></th>\n",
       "      <th>OVER_CONSENSUS</th>\n",
       "      <th>UNDER_CONSENSUS</th>\n",
       "      <th>OVER_PCT</th>\n",
       "      <th>UNDER_PCT</th>\n",
       "    </tr>\n",
       "  </thead>\n",
       "  <tbody>\n",
       "    <tr>\n",
       "      <th>0</th>\n",
       "      <td>690.0</td>\n",
       "      <td>390.0</td>\n",
       "      <td>63.9</td>\n",
       "      <td>36.1</td>\n",
       "    </tr>\n",
       "    <tr>\n",
       "      <th>1</th>\n",
       "      <td>819.0</td>\n",
       "      <td>529.0</td>\n",
       "      <td>60.8</td>\n",
       "      <td>39.2</td>\n",
       "    </tr>\n",
       "    <tr>\n",
       "      <th>2</th>\n",
       "      <td>744.0</td>\n",
       "      <td>441.0</td>\n",
       "      <td>62.8</td>\n",
       "      <td>37.2</td>\n",
       "    </tr>\n",
       "    <tr>\n",
       "      <th>3</th>\n",
       "      <td>593.0</td>\n",
       "      <td>340.0</td>\n",
       "      <td>63.6</td>\n",
       "      <td>36.4</td>\n",
       "    </tr>\n",
       "    <tr>\n",
       "      <th>4</th>\n",
       "      <td>482.0</td>\n",
       "      <td>460.0</td>\n",
       "      <td>51.2</td>\n",
       "      <td>48.8</td>\n",
       "    </tr>\n",
       "    <tr>\n",
       "      <th>...</th>\n",
       "      <td>...</td>\n",
       "      <td>...</td>\n",
       "      <td>...</td>\n",
       "      <td>...</td>\n",
       "    </tr>\n",
       "    <tr>\n",
       "      <th>2547</th>\n",
       "      <td>375.0</td>\n",
       "      <td>791.0</td>\n",
       "      <td>32.2</td>\n",
       "      <td>67.8</td>\n",
       "    </tr>\n",
       "    <tr>\n",
       "      <th>2548</th>\n",
       "      <td>468.0</td>\n",
       "      <td>716.0</td>\n",
       "      <td>39.5</td>\n",
       "      <td>60.5</td>\n",
       "    </tr>\n",
       "    <tr>\n",
       "      <th>2549</th>\n",
       "      <td>691.0</td>\n",
       "      <td>696.0</td>\n",
       "      <td>49.8</td>\n",
       "      <td>50.2</td>\n",
       "    </tr>\n",
       "    <tr>\n",
       "      <th>2550</th>\n",
       "      <td>933.0</td>\n",
       "      <td>1051.0</td>\n",
       "      <td>47.0</td>\n",
       "      <td>53.0</td>\n",
       "    </tr>\n",
       "    <tr>\n",
       "      <th>2551</th>\n",
       "      <td>625.0</td>\n",
       "      <td>1381.0</td>\n",
       "      <td>31.2</td>\n",
       "      <td>68.8</td>\n",
       "    </tr>\n",
       "  </tbody>\n",
       "</table>\n",
       "<p>2387 rows × 4 columns</p>\n",
       "</div>"
      ],
      "text/plain": [
       "      OVER_CONSENSUS  UNDER_CONSENSUS  OVER_PCT  UNDER_PCT\n",
       "0              690.0            390.0      63.9       36.1\n",
       "1              819.0            529.0      60.8       39.2\n",
       "2              744.0            441.0      62.8       37.2\n",
       "3              593.0            340.0      63.6       36.4\n",
       "4              482.0            460.0      51.2       48.8\n",
       "...              ...              ...       ...        ...\n",
       "2547           375.0            791.0      32.2       67.8\n",
       "2548           468.0            716.0      39.5       60.5\n",
       "2549           691.0            696.0      49.8       50.2\n",
       "2550           933.0           1051.0      47.0       53.0\n",
       "2551           625.0           1381.0      31.2       68.8\n",
       "\n",
       "[2387 rows x 4 columns]"
      ]
     },
     "execution_count": 29,
     "metadata": {},
     "output_type": "execute_result"
    }
   ],
   "source": [
    "df3 = df[['OVER_CONSENSUS', 'UNDER_CONSENSUS']]\n",
    "df3 = df3.assign(OVER_PCT=round((df3['OVER_CONSENSUS'] / (df3['OVER_CONSENSUS'] + df3['UNDER_CONSENSUS'])) * 100, 1))\n",
    "df3 = df3.assign(UNDER_PCT=round((df3['UNDER_CONSENSUS'] / (df3['OVER_CONSENSUS'] + df3['UNDER_CONSENSUS'])) * 100, 1))\n",
    "\n",
    "df3"
   ]
  },
  {
   "cell_type": "code",
   "execution_count": 71,
   "id": "11d5b3f2",
   "metadata": {},
   "outputs": [
    {
     "data": {
      "text/plain": [
       "<Axes: >"
      ]
     },
     "execution_count": 71,
     "metadata": {},
     "output_type": "execute_result"
    },
    {
     "data": {
      "image/png": "[encoded data removed]",
      "text/plain": [
       "<Figure size 640x480 with 2 Axes>"
      ]
     },
     "metadata": {},
     "output_type": "display_data"
    }
   ],
   "source": [
    "import numpy as np\n",
    "import matplotlib.pyplot as plt\n",
    "import seaborn as sns\n",
    "from sklearn.metrics import (\n",
    "    confusion_matrix,\n",
    "    ConfusionMatrixDisplay\n",
    ")\n",
    "\n",
    "cm = np.array(confusion_matrix(df['PTS_TOTAL_OVER_SB'], df['CONSENSUS_MAJORITY_OVER_SB'], labels=[0,1]))\n",
    "confusion = pd.DataFrame(cm, index=['Actual over', 'Actual under'], columns=['Predicted Over', 'Predicted Under'])\n",
    "sns.heatmap(confusion,annot=True,fmt='g',cmap=plt.cm.Blues)"
   ]
  },
  {
   "cell_type": "code",
   "execution_count": 58,
   "id": "f924d30c",
   "metadata": {},
   "outputs": [
    {
     "data": {
      "text/plain": [
       "Text(0, 0.5, 'Number of games')"
      ]
     },
     "execution_count": 58,
     "metadata": {},
     "output_type": "execute_result"
    },
    {
     "data": {
      "image/png": "[encoded data removed]",
      "text/plain": [
       "<Figure size 640x480 with 1 Axes>"
      ]
     },
     "metadata": {},
     "output_type": "display_data"
    },
    {
     "data": {
      "image/png": "[encoded data removed]",
      "text/plain": [
       "<Figure size 640x480 with 1 Axes>"
      ]
     },
     "metadata": {},
     "output_type": "display_data"
    }
   ],
   "source": [
    "fig1, ax1 = plt.subplots(1, 1) \n",
    "ax1.hist(df3['OVER_PCT'], color='teal', ec='black')\n",
    "  \n",
    "ax1.set_title(\"Recorded games with consensus data\") \n",
    " \n",
    "ax1.set_xlabel(\"% of voters that picked 'Over'\") \n",
    "ax1.set_ylabel('Number of games') \n",
    "\n",
    "fig2, ax2 = plt.subplots(1, 1) \n",
    "ax2.hist(df3['UNDER_PCT'], color='skyblue', ec='black') \n",
    "  \n",
    "ax2.set_title(\"Recorded games with consensus data\") \n",
    " \n",
    "ax2.set_xlabel(\"% of voters that picked 'Under'\") \n",
    "ax2.set_ylabel('Number of games') "
   ]
  },
  {
   "cell_type": "code",
   "execution_count": 72,
   "id": "5c70a973",
   "metadata": {},
   "outputs": [
    {
     "name": "stdout",
     "output_type": "stream",
     "text": [
      "Number of games with same amount of voters on each side:\n"
     ]
    },
    {
     "data": {
      "text/plain": [
       "0"
      ]
     },
     "execution_count": 72,
     "metadata": {},
     "output_type": "execute_result"
    }
   ],
   "source": [
    "# get rows where number of voters were the same for both sides\n",
    "print('Number of games with same amount of voters on each side:')\n",
    "df.loc[df['CONSENSUS_MAJORITY_OVER_SB'] == None].shape[0]"
   ]
  },
  {
   "cell_type": "code",
   "execution_count": 76,
   "id": "4ee7938c",
   "metadata": {},
   "outputs": [
    {
     "name": "stdout",
     "output_type": "stream",
     "text": [
      "Accuracy of consensus predictions: \n"
     ]
    },
    {
     "ename": "InvalidIndexError",
     "evalue": "(0        True\n1       False\n2        True\n3       False\n4       False\n        ...  \n2547     True\n2548    False\n2549    False\n2550    False\n2551     True\nName: PTS_TOTAL_OVER_SB, Length: 2387, dtype: bool, 0        True\n1        True\n2        True\n3        True\n4        True\n        ...  \n2547    False\n2548    False\n2549    False\n2550    False\n2551    False\nName: CONSENSUS_MAJORITY_OVER_SB, Length: 2387, dtype: bool)",
     "output_type": "error",
     "traceback": [
      "\u001b[1;31m---------------------------------------------------------------------------\u001b[0m",
      "\u001b[1;31mTypeError\u001b[0m                                 Traceback (most recent call last)",
      "File \u001b[1;32m~\\anaconda3\\Lib\\site-packages\\pandas\\core\\indexes\\base.py:3653\u001b[0m, in \u001b[0;36mIndex.get_loc\u001b[1;34m(self, key)\u001b[0m\n\u001b[0;32m   3652\u001b[0m \u001b[38;5;28;01mtry\u001b[39;00m:\n\u001b[1;32m-> 3653\u001b[0m     \u001b[38;5;28;01mreturn\u001b[39;00m \u001b[38;5;28mself\u001b[39m\u001b[38;5;241m.\u001b[39m_engine\u001b[38;5;241m.\u001b[39mget_loc(casted_key)\n\u001b[0;32m   3654\u001b[0m \u001b[38;5;28;01mexcept\u001b[39;00m \u001b[38;5;167;01mKeyError\u001b[39;00m \u001b[38;5;28;01mas\u001b[39;00m err:\n",
      "File \u001b[1;32m~\\anaconda3\\Lib\\site-packages\\pandas\\_libs\\index.pyx:147\u001b[0m, in \u001b[0;36mpandas._libs.index.IndexEngine.get_loc\u001b[1;34m()\u001b[0m\n",
      "File \u001b[1;32m~\\anaconda3\\Lib\\site-packages\\pandas\\_libs\\index.pyx:153\u001b[0m, in \u001b[0;36mpandas._libs.index.IndexEngine.get_loc\u001b[1;34m()\u001b[0m\n",
      "\u001b[1;31mTypeError\u001b[0m: '(0        True\n1       False\n2        True\n3       False\n4       False\n        ...  \n2547     True\n2548    False\n2549    False\n2550    False\n2551     True\nName: PTS_TOTAL_OVER_SB, Length: 2387, dtype: bool, 0        True\n1        True\n2        True\n3        True\n4        True\n        ...  \n2547    False\n2548    False\n2549    False\n2550    False\n2551    False\nName: CONSENSUS_MAJORITY_OVER_SB, Length: 2387, dtype: bool)' is an invalid key",
      "\nDuring handling of the above exception, another exception occurred:\n",
      "\u001b[1;31mInvalidIndexError\u001b[0m                         Traceback (most recent call last)",
      "Cell \u001b[1;32mIn[76], line 2\u001b[0m\n\u001b[0;32m      1\u001b[0m \u001b[38;5;28mprint\u001b[39m(\u001b[38;5;124m\"\u001b[39m\u001b[38;5;124mAccuracy of consensus predictions: \u001b[39m\u001b[38;5;124m\"\u001b[39m)\n\u001b[1;32m----> 2\u001b[0m preds \u001b[38;5;241m=\u001b[39m df[df[\u001b[38;5;124m'\u001b[39m\u001b[38;5;124mPTS_TOTAL_OVER_SB\u001b[39m\u001b[38;5;124m'\u001b[39m], df[\u001b[38;5;124m'\u001b[39m\u001b[38;5;124mCONSENSUS_MAJORITY_OVER_SB\u001b[39m\u001b[38;5;124m'\u001b[39m]]\n\u001b[0;32m      3\u001b[0m times_correct \u001b[38;5;241m=\u001b[39m preds\u001b[38;5;241m.\u001b[39mvalue_counts[\u001b[38;5;28;01mTrue\u001b[39;00m]\n\u001b[0;32m      4\u001b[0m \u001b[38;5;28mprint\u001b[39m(times_correct)\n",
      "File \u001b[1;32m~\\anaconda3\\Lib\\site-packages\\pandas\\core\\frame.py:3761\u001b[0m, in \u001b[0;36mDataFrame.__getitem__\u001b[1;34m(self, key)\u001b[0m\n\u001b[0;32m   3759\u001b[0m \u001b[38;5;28;01mif\u001b[39;00m \u001b[38;5;28mself\u001b[39m\u001b[38;5;241m.\u001b[39mcolumns\u001b[38;5;241m.\u001b[39mnlevels \u001b[38;5;241m>\u001b[39m \u001b[38;5;241m1\u001b[39m:\n\u001b[0;32m   3760\u001b[0m     \u001b[38;5;28;01mreturn\u001b[39;00m \u001b[38;5;28mself\u001b[39m\u001b[38;5;241m.\u001b[39m_getitem_multilevel(key)\n\u001b[1;32m-> 3761\u001b[0m indexer \u001b[38;5;241m=\u001b[39m \u001b[38;5;28mself\u001b[39m\u001b[38;5;241m.\u001b[39mcolumns\u001b[38;5;241m.\u001b[39mget_loc(key)\n\u001b[0;32m   3762\u001b[0m \u001b[38;5;28;01mif\u001b[39;00m is_integer(indexer):\n\u001b[0;32m   3763\u001b[0m     indexer \u001b[38;5;241m=\u001b[39m [indexer]\n",
      "File \u001b[1;32m~\\anaconda3\\Lib\\site-packages\\pandas\\core\\indexes\\base.py:3660\u001b[0m, in \u001b[0;36mIndex.get_loc\u001b[1;34m(self, key)\u001b[0m\n\u001b[0;32m   3655\u001b[0m     \u001b[38;5;28;01mraise\u001b[39;00m \u001b[38;5;167;01mKeyError\u001b[39;00m(key) \u001b[38;5;28;01mfrom\u001b[39;00m \u001b[38;5;21;01merr\u001b[39;00m\n\u001b[0;32m   3656\u001b[0m \u001b[38;5;28;01mexcept\u001b[39;00m \u001b[38;5;167;01mTypeError\u001b[39;00m:\n\u001b[0;32m   3657\u001b[0m     \u001b[38;5;66;03m# If we have a listlike key, _check_indexing_error will raise\u001b[39;00m\n\u001b[0;32m   3658\u001b[0m     \u001b[38;5;66;03m#  InvalidIndexError. Otherwise we fall through and re-raise\u001b[39;00m\n\u001b[0;32m   3659\u001b[0m     \u001b[38;5;66;03m#  the TypeError.\u001b[39;00m\n\u001b[1;32m-> 3660\u001b[0m     \u001b[38;5;28mself\u001b[39m\u001b[38;5;241m.\u001b[39m_check_indexing_error(key)\n\u001b[0;32m   3661\u001b[0m     \u001b[38;5;28;01mraise\u001b[39;00m\n",
      "File \u001b[1;32m~\\anaconda3\\Lib\\site-packages\\pandas\\core\\indexes\\base.py:5737\u001b[0m, in \u001b[0;36mIndex._check_indexing_error\u001b[1;34m(self, key)\u001b[0m\n\u001b[0;32m   5733\u001b[0m \u001b[38;5;28;01mdef\u001b[39;00m \u001b[38;5;21m_check_indexing_error\u001b[39m(\u001b[38;5;28mself\u001b[39m, key):\n\u001b[0;32m   5734\u001b[0m     \u001b[38;5;28;01mif\u001b[39;00m \u001b[38;5;129;01mnot\u001b[39;00m is_scalar(key):\n\u001b[0;32m   5735\u001b[0m         \u001b[38;5;66;03m# if key is not a scalar, directly raise an error (the code below\u001b[39;00m\n\u001b[0;32m   5736\u001b[0m         \u001b[38;5;66;03m# would convert to numpy arrays and raise later any way) - GH29926\u001b[39;00m\n\u001b[1;32m-> 5737\u001b[0m         \u001b[38;5;28;01mraise\u001b[39;00m InvalidIndexError(key)\n",
      "\u001b[1;31mInvalidIndexError\u001b[0m: (0        True\n1       False\n2        True\n3       False\n4       False\n        ...  \n2547     True\n2548    False\n2549    False\n2550    False\n2551     True\nName: PTS_TOTAL_OVER_SB, Length: 2387, dtype: bool, 0        True\n1        True\n2        True\n3        True\n4        True\n        ...  \n2547    False\n2548    False\n2549    False\n2550    False\n2551    False\nName: CONSENSUS_MAJORITY_OVER_SB, Length: 2387, dtype: bool)"
     ]
    }
   ],
   "source": [
    "print(\"Accuracy of consensus predictions: \")\n",
    "preds = df[df['PTS_TOTAL_OVER_SB'], df['CONSENSUS_MAJORITY_OVER_SB']]\n",
    "times_correct = preds.value_counts[True]\n",
    "print(times_correct)"
   ]
  },
  {
   "cell_type": "code",
   "execution_count": null,
   "id": "28f27369",
   "metadata": {},
   "outputs": [],
   "source": []
  }
 ],
 "metadata": {
  "kernelspec": {
   "display_name": "Python 3 (ipykernel)",
   "language": "python",
   "name": "python3"
  },
  "language_info": {
   "codemirror_mode": {
    "name": "ipython",
    "version": 3
   },
   "file_extension": ".py",
   "mimetype": "text/x-python",
   "name": "python",
   "nbconvert_exporter": "python",
   "pygments_lexer": "ipython3",
   "version": "3.11.5"
  }
 },
 "nbformat": 4,
 "nbformat_minor": 5
}
